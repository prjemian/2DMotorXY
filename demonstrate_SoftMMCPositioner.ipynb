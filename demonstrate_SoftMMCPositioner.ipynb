{
 "metadata": {
  "language_info": {
   "codemirror_mode": {
    "name": "ipython",
    "version": 3
   },
   "file_extension": ".py",
   "mimetype": "text/x-python",
   "name": "python",
   "nbconvert_exporter": "python",
   "pygments_lexer": "ipython3",
   "version": "3.8.5"
  },
  "orig_nbformat": 2,
  "kernelspec": {
   "name": "python385jvsc74a57bd07dab0508751cb82e61e81c3615f36912821e9ee8b7d6dc826bc4bbc1ddc8fd45",
   "display_name": "Python 3.8.5 64-bit ('bluesky_2021_1': conda)"
  }
 },
 "nbformat": 4,
 "nbformat_minor": 2,
 "cells": [
  {
   "source": [
    "# Integrate SimMMC"
   ],
   "cell_type": "markdown",
   "metadata": {}
  },
  {
   "source": [
    "## Python SimMMC"
   ],
   "cell_type": "markdown",
   "metadata": {}
  },
  {
   "cell_type": "code",
   "execution_count": 1,
   "metadata": {},
   "outputs": [
    {
     "output_type": "stream",
     "name": "stdout",
     "text": [
      "mmc = <__main__.SimMMC object at 0x000001E5DD80B7F0>\n"
     ]
    }
   ],
   "source": [
    "%run -i sim_mmc_controller\n",
    "mmc = SimMMC()\n",
    "print(f\"{mmc = }\")"
   ]
  },
  {
   "cell_type": "code",
   "execution_count": 2,
   "metadata": {},
   "outputs": [
    {
     "output_type": "stream",
     "name": "stdout",
     "text": [
      "mmc.getXYPosition() = (1.234, 6.789)\n"
     ]
    }
   ],
   "source": [
    "mmc.setXYPosition((1.234, 6.789))\n",
    "print(f\"{mmc.getXYPosition() = }\")"
   ]
  },
  {
   "source": [
    "-----"
   ],
   "cell_type": "markdown",
   "metadata": {}
  },
  {
   "source": [
    "## ophyd SoftMMCPositioner"
   ],
   "cell_type": "markdown",
   "metadata": {}
  },
  {
   "cell_type": "code",
   "execution_count": 3,
   "metadata": {},
   "outputs": [],
   "source": [
    "%run -i mmc_positioner"
   ]
  },
  {
   "cell_type": "code",
   "execution_count": 4,
   "metadata": {},
   "outputs": [
    {
     "output_type": "stream",
     "name": "stdout",
     "text": [
      "mmcp = SoftMMCPositioner(name='mmcp', value=(1.234, 6.789), timestamp=1620074823.6952362, settle_time=0.0, timeout=None, egu='', hold_on_stop=False)\n",
      "mmcp.mmc = <__main__.SimMMC object at 0x000001E5DD80B7F0>\n",
      "mmcp.mmc.xy = (1.234, 6.789)\n",
      "mmcp.mmc.getXYPosition() = (1.234, 6.789)\n",
      "mmcp.get() = (1.234, 6.789)\n"
     ]
    }
   ],
   "source": [
    "mmcp = SoftMMCPositioner(mmc, name=\"mmcp\")\n",
    "print(f\"{mmcp = }\")\n",
    "print(f\"{mmcp.mmc = }\")\n",
    "print(f\"{mmcp.mmc.xy = }\")\n",
    "print(f\"{mmcp.mmc.getXYPosition() = }\")\n",
    "print(f\"{mmcp.get() = }\")"
   ]
  },
  {
   "cell_type": "code",
   "execution_count": 5,
   "metadata": {},
   "outputs": [
    {
     "output_type": "stream",
     "name": "stdout",
     "text": [
      "mmcp.move((4.321, -1.234)) = None\n",
      "mmcp.mmc.xy = (4.321, -1.234)\n",
      "mmcp.mmc.getXYPosition() = (4.321, -1.234)\n",
      "mmcp.get() = (4.321, -1.234)\n",
      "mmcp.read() = {'mmcp': {'value': (4.321, -1.234), 'timestamp': 1620074823.6952362}}\n",
      "mmcp.move((8.765, 3.210)) = None\n",
      "mmcp.mmc.xy = (8.765, 3.21)\n",
      "mmcp.mmc.getXYPosition() = (8.765, 3.21)\n",
      "mmcp.get() = (8.765, 3.21)\n",
      "mmcp.read() = {'mmcp': {'value': (8.765, 3.21), 'timestamp': 1620074823.6952362}}\n"
     ]
    }
   ],
   "source": [
    "print(f\"{mmcp.move((4.321, -1.234)) = }\")\n",
    "print(f\"{mmcp.mmc.xy = }\")\n",
    "print(f\"{mmcp.mmc.getXYPosition() = }\")\n",
    "print(f\"{mmcp.get() = }\")\n",
    "print(f\"{mmcp.read() = }\")\n",
    "\n",
    "print(f\"{mmcp.move((8.765, 3.210)) = }\")\n",
    "print(f\"{mmcp.mmc.xy = }\")\n",
    "print(f\"{mmcp.mmc.getXYPosition() = }\")\n",
    "print(f\"{mmcp.get() = }\")\n",
    "print(f\"{mmcp.read() = }\")"
   ]
  }
 ]
}