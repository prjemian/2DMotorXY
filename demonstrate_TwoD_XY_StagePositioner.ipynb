{
 "metadata": {
  "language_info": {
   "codemirror_mode": {
    "name": "ipython",
    "version": 3
   },
   "file_extension": ".py",
   "mimetype": "text/x-python",
   "name": "python",
   "nbconvert_exporter": "python",
   "pygments_lexer": "ipython3",
   "version": "3.8.5"
  },
  "orig_nbformat": 2,
  "kernelspec": {
   "name": "python385jvsc74a57bd07dab0508751cb82e61e81c3615f36912821e9ee8b7d6dc826bc4bbc1ddc8fd45",
   "display_name": "Python 3.8.5 64-bit ('bluesky_2021_1': conda)"
  }
 },
 "nbformat": 4,
 "nbformat_minor": 2,
 "cells": [
  {
   "source": [
    "# Demonstrate the MMCController ophyd support"
   ],
   "cell_type": "markdown",
   "metadata": {}
  },
  {
   "cell_type": "code",
   "execution_count": 1,
   "metadata": {},
   "outputs": [],
   "source": [
    "%run -i xy_positioner"
   ]
  },
  {
   "cell_type": "code",
   "execution_count": 2,
   "metadata": {},
   "outputs": [
    {
     "output_type": "stream",
     "name": "stdout",
     "text": [
      "stage = TwoD_XY_StagePositioner(prefix='', name='xy_stage', settle_time=0.0, timeout=None, egu='', limits=(0, 0), source='computed', read_attrs=['x', 'x.readback', 'x.setpoint', 'y', 'y.readback', 'y.setpoint', 'pair'], configuration_attrs=['x', 'y'], concurrent=True)\n"
     ]
    }
   ],
   "source": [
    "stage = TwoD_XY_StagePositioner(\"\", name=\"xy_stage\")\n",
    "print(f\"{stage = }\")"
   ]
  },
  {
   "cell_type": "code",
   "execution_count": 3,
   "metadata": {},
   "outputs": [
    {
     "output_type": "stream",
     "name": "stdout",
     "text": [
      "stage.forward((8.2, 3.14159)) = TwoD_XY_StagePositionerRealPos(pair=TwoD_XY_StagePositionerPseudoPos(x=8.2, y=3.14159))\n",
      "stage.inverse((-.5, -.23)) = TwoD_XY_StagePositionerPseudoPos(x=-0.5, y=-0.23)\n",
      "stage.inverse((25, 6.24)) = TwoD_XY_StagePositionerPseudoPos(x=25, y=6.24)\n"
     ]
    }
   ],
   "source": [
    "print(f\"{stage.forward((8.2, 3.14159)) = }\")\n",
    "print(f\"{stage.inverse((-.5, -.23)) = }\")\n",
    "\n",
    "print(f\"{stage.inverse((25, 6.24)) = }\")"
   ]
  },
  {
   "cell_type": "code",
   "execution_count": 4,
   "metadata": {},
   "outputs": [
    {
     "output_type": "stream",
     "name": "stdout",
     "text": [
      "st = MoveStatus(done=True, pos=xy_stage, elapsed=1.0, success=True, settle_time=0.0)\n",
      "stage = TwoD_XY_StagePositioner(prefix='', name='xy_stage', settle_time=0.0, timeout=None, egu='', limits=(0, 0), source='computed', read_attrs=['x', 'x.readback', 'x.setpoint', 'y', 'y.readback', 'y.setpoint', 'pair'], configuration_attrs=['x', 'y'], concurrent=True)\n",
      "stage.pair.mmc.xy = TwoD_XY_StagePositionerPseudoPos(x=10, y=1)\n"
     ]
    },
    {
     "output_type": "execute_result",
     "data": {
      "text/plain": [
       "OrderedDict([('xy_stage_x', {'value': 10, 'timestamp': 1620097276.1744738}),\n",
       "             ('xy_stage_x_setpoint',\n",
       "              {'value': 10, 'timestamp': 1620097276.1744738}),\n",
       "             ('xy_stage_y', {'value': 1, 'timestamp': 1620097276.1744738}),\n",
       "             ('xy_stage_y_setpoint',\n",
       "              {'value': 1, 'timestamp': 1620097276.1744738}),\n",
       "             ('xy_stage_pair',\n",
       "              {'value': TwoD_XY_StagePositionerPseudoPos(x=10, y=1),\n",
       "               'timestamp': 1620097276.1755083})])"
      ]
     },
     "metadata": {},
     "execution_count": 4
    }
   ],
   "source": [
    "st = stage.move((10,1))\n",
    "print(f\"{st = }\")\n",
    "st.wait()\n",
    "print(f\"{stage = }\")\n",
    "print(f\"{stage.pair.mmc.xy = }\")\n",
    "stage.read()"
   ]
  },
  {
   "cell_type": "code",
   "execution_count": 5,
   "metadata": {},
   "outputs": [
    {
     "output_type": "execute_result",
     "data": {
      "text/plain": [
       "OrderedDict([('xy_stage_x',\n",
       "              {'value': -1.234, 'timestamp': 1620097276.1744738}),\n",
       "             ('xy_stage_x_setpoint',\n",
       "              {'value': -1.234, 'timestamp': 1620097276.1744738}),\n",
       "             ('xy_stage_y',\n",
       "              {'value': 54.321, 'timestamp': 1620097276.1744738}),\n",
       "             ('xy_stage_y_setpoint',\n",
       "              {'value': 54.321, 'timestamp': 1620097276.1744738}),\n",
       "             ('xy_stage_pair',\n",
       "              {'value': TwoD_XY_StagePositionerPseudoPos(x=-1.234, y=54.321),\n",
       "               'timestamp': 1620097276.1755083})])"
      ]
     },
     "metadata": {},
     "execution_count": 5
    }
   ],
   "source": [
    "stage.move((-1.234, 54.321))\n",
    "stage.read()"
   ]
  }
 ]
}