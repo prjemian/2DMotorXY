{
 "metadata": {
  "language_info": {
   "codemirror_mode": {
    "name": "ipython",
    "version": 3
   },
   "file_extension": ".py",
   "mimetype": "text/x-python",
   "name": "python",
   "nbconvert_exporter": "python",
   "pygments_lexer": "ipython3",
   "version": "3.8.5"
  },
  "orig_nbformat": 2,
  "kernelspec": {
   "name": "python385jvsc74a57bd07dab0508751cb82e61e81c3615f36912821e9ee8b7d6dc826bc4bbc1ddc8fd45",
   "display_name": "Python 3.8.5 64-bit ('bluesky_2021_1': conda)"
  }
 },
 "nbformat": 4,
 "nbformat_minor": 2,
 "cells": [
  {
   "source": [
    "# Demonstrate the MMCController ophyd support"
   ],
   "cell_type": "markdown",
   "metadata": {}
  },
  {
   "cell_type": "code",
   "execution_count": 1,
   "metadata": {},
   "outputs": [
    {
     "output_type": "stream",
     "name": "stdout",
     "text": [
      "mmc = MMC_Positioner(name='mmc', settle_time=0.0, timeout=None, egu='', limits=(0, 0), source='MMC 2D XY Stage Controller')\n",
      "st = MoveStatus(done=False, pos=mmc, elapsed=1.0, success=False, settle_time=0.0)\n",
      "mmc = MMC_Positioner(name='mmc', settle_time=0.0, timeout=None, egu='', limits=(0, 0), source='MMC 2D XY Stage Controller')\n",
      "mmc.get() = (2.1, -0.1)\n",
      "exc = AttributeError(\"'MMC_Positioner' object has no attribute 'put'\")\n",
      "mmc.read() = OrderedDict([('mmc', {'value': (2.1, -0.1), 'timestamp': 1619898095.402105})])\n",
      "mmc.move((.6, -.7)) = MoveStatus(done=True, pos=mmc, elapsed=1.0, success=True, settle_time=0.0)\n",
      "1.015625s\n",
      "mmc = MMC_Positioner(name='mmc', settle_time=0.0, timeout=None, egu='', limits=(0, 0), source='MMC 2D XY Stage Controller')\n",
      "mmc.position = (0.6, -0.7)\n"
     ]
    }
   ],
   "source": [
    "%run -i mmc_positioner.py\n",
    "mmc = MMC_Positioner(name=\"mmc\", mmc_label=\"is this used?\")\n",
    "demonstrate_mmc_positioner(mmc)"
   ]
  },
  {
   "cell_type": "code",
   "execution_count": 2,
   "metadata": {},
   "outputs": [],
   "source": [
    "from ophyd import Component\n",
    "from ophyd import PseudoPositioner\n",
    "from ophyd import PseudoSingle\n",
    "from ophyd.pseudopos import pseudo_position_argument\n",
    "from ophyd.pseudopos import real_position_argument\n",
    "\n",
    "class TwoD_XY_StagePositioner(PseudoPositioner):\n",
    "\n",
    "    # The pseudo positioner axes:\n",
    "    x = Component(PseudoSingle, target_initial_position=True)\n",
    "    y = Component(PseudoSingle, target_initial_position=True)\n",
    "    \n",
    "    # The real (or physical) positioners:\n",
    "    pair = Component(MMC_Positioner)\n",
    "    \n",
    "    @pseudo_position_argument\n",
    "    def forward(self, pseudo_pos):\n",
    "        \"\"\"Run a forward (pseudo -> real) calculation (return pair).\"\"\"\n",
    "        return self.RealPosition(pseudo_pos)\n",
    "\n",
    "    @real_position_argument\n",
    "    def inverse(self, real_pos):\n",
    "        \"\"\"Run an inverse (real -> pseudo) calculation (return x & y).\"\"\"\n",
    "        # FIXME: cannot call like this yet:  inverse([1,2])  : too many args\n",
    "        pair = real_pos\n",
    "        return self.PseudoPosition(x=pair[0], y=pair[-1])"
   ]
  },
  {
   "cell_type": "code",
   "execution_count": 3,
   "metadata": {},
   "outputs": [
    {
     "output_type": "execute_result",
     "data": {
      "text/plain": [
       "MoveStatus(done=True, pos=xy_stage, elapsed=1.0, success=True, settle_time=0.0)"
      ]
     },
     "metadata": {},
     "execution_count": 3
    }
   ],
   "source": [
    "stage = TwoD_XY_StagePositioner(name=\"xy_stage\")\n",
    "# xy_stage.inverse(xy_stage.real_position)\n",
    "stage.move(8,9)"
   ]
  },
  {
   "cell_type": "code",
   "execution_count": 4,
   "metadata": {},
   "outputs": [
    {
     "output_type": "stream",
     "name": "stdout",
     "text": [
      "TwoD_XY_StagePositionerRealPos(pair=TwoD_XY_StagePositionerPseudoPos(x=10, y=1))\n"
     ]
    }
   ],
   "source": [
    "print(f\"{stage.forward((10,1))}\")"
   ]
  },
  {
   "cell_type": "code",
   "execution_count": 5,
   "metadata": {},
   "outputs": [
    {
     "output_type": "stream",
     "name": "stdout",
     "text": [
      "TwoD_XY_StagePositionerPseudoPos(x=[1.1, 2.2], y=[1.1, 2.2])\n"
     ]
    }
   ],
   "source": [
    "# FIXME: x & Y are not set correctly\n",
    "print(f\"{stage.inverse(stage.RealPosition([1.1, 2.2]))}\")"
   ]
  },
  {
   "cell_type": "code",
   "execution_count": 6,
   "metadata": {},
   "outputs": [
    {
     "output_type": "stream",
     "name": "stdout",
     "text": [
      "stage.pair.move((3, 4)) = MoveStatus(done=True, pos=xy_stage_pair, elapsed=1.0, success=True, settle_time=0.0)\n"
     ]
    }
   ],
   "source": [
    "print(f\"{stage.pair.move((3, 4)) = }\")"
   ]
  },
  {
   "cell_type": "code",
   "execution_count": 7,
   "metadata": {},
   "outputs": [
    {
     "output_type": "stream",
     "name": "stdout",
     "text": [
      "stage.x.get() = PseudoSingleTuple(readback=None, setpoint=8)\n",
      "stage.y.get() = PseudoSingleTuple(readback=None, setpoint=9)\n",
      "stage.pair.get() = (3, 4)\n"
     ]
    }
   ],
   "source": [
    "# FIXME: pair is OK, x & y are unset\n",
    "print(f\"{stage.x.get() = }\")\n",
    "print(f\"{stage.y.get() = }\")\n",
    "print(f\"{stage.pair.get() = }\")"
   ]
  },
  {
   "cell_type": "code",
   "execution_count": 8,
   "metadata": {},
   "outputs": [
    {
     "output_type": "stream",
     "name": "stdout",
     "text": [
      "stage.x.move(1) = MoveStatus(done=True, pos=xy_stage, elapsed=1.0, success=True, settle_time=0.0)\n",
      "stage.x.get() = PseudoSingleTuple(readback=None, setpoint=1)\n",
      "stage.y.get() = PseudoSingleTuple(readback=None, setpoint=9)\n",
      "stage.pair.get() = TwoD_XY_StagePositionerPseudoPos(x=1, y=9)\n"
     ]
    },
    {
     "output_type": "execute_result",
     "data": {
      "text/plain": [
       "OrderedDict([('xy_stage_x', {'value': None, 'timestamp': 1619898096.480033}),\n",
       "             ('xy_stage_x_setpoint',\n",
       "              {'value': 1, 'timestamp': 1619898096.480033}),\n",
       "             ('xy_stage_y', {'value': None, 'timestamp': 1619898096.480033}),\n",
       "             ('xy_stage_y_setpoint',\n",
       "              {'value': 9, 'timestamp': 1619898096.480033}),\n",
       "             ('xy_stage_pair',\n",
       "              {'value': TwoD_XY_StagePositionerPseudoPos(x=1, y=9),\n",
       "               'timestamp': 1619898099.7308714})])"
      ]
     },
     "metadata": {},
     "execution_count": 8
    }
   ],
   "source": [
    "print(f\"{stage.x.move(1) = }\")\n",
    "\n",
    "# FIXME: pair, x & y setpoints are OK, x & y readbacks are unset\n",
    "print(f\"{stage.x.get() = }\")\n",
    "print(f\"{stage.y.get() = }\")\n",
    "print(f\"{stage.pair.get() = }\")\n",
    "stage.read()"
   ]
  },
  {
   "cell_type": "code",
   "execution_count": 9,
   "metadata": {},
   "outputs": [
    {
     "output_type": "stream",
     "name": "stdout",
     "text": [
      "stage.y.move(2.71) = MoveStatus(done=True, pos=xy_stage, elapsed=1.0, success=True, settle_time=0.0)\n"
     ]
    },
    {
     "output_type": "execute_result",
     "data": {
      "text/plain": [
       "OrderedDict([('xy_stage_x', {'value': None, 'timestamp': 1619898096.480033}),\n",
       "             ('xy_stage_x_setpoint',\n",
       "              {'value': 1, 'timestamp': 1619898096.480033}),\n",
       "             ('xy_stage_y', {'value': None, 'timestamp': 1619898096.480033}),\n",
       "             ('xy_stage_y_setpoint',\n",
       "              {'value': 2.71, 'timestamp': 1619898096.480033}),\n",
       "             ('xy_stage_pair',\n",
       "              {'value': TwoD_XY_StagePositionerPseudoPos(x=1, y=2.71),\n",
       "               'timestamp': 1619898100.7807584})])"
      ]
     },
     "metadata": {},
     "execution_count": 9
    }
   ],
   "source": [
    "print(f\"{stage.y.move(2.71) = }\")\n",
    "stage.read()"
   ]
  }
 ]
}