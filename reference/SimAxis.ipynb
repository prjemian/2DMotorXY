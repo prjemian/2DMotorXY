{
 "cells": [
  {
   "cell_type": "code",
   "execution_count": 1,
   "metadata": {},
   "outputs": [],
   "source": [
    "import numpy as np\n",
    "import threading\n",
    "import time\n",
    "\n",
    "class SimAxis:\n",
    "    \"\"\"Simulate a positioning motor.\"\"\"\n",
    "\n",
    "    readback = 0.\n",
    "    setpoint = 0.\n",
    "    tolerance = 0.001\n",
    "    noise_amplitude = 0.0002\n",
    "    done = True\n",
    "    low_limit = -1\n",
    "    high_limit = 121\n",
    "    units = \"mm\"\n",
    "    _poll_interval_s = 0.005\n",
    "    _max_move = 0.05\n",
    "    _stopping = False\n",
    "    _controller_thread = None\n",
    "\n",
    "    def __init__(self, prefix, name=None):\n",
    "        self.prefix = prefix\n",
    "        if name is None:\n",
    "            raise ValueError(\"Must specify keyword argument 'name' with a string value.\")\n",
    "        self.name = name\n",
    "\n",
    "    def __repr__(self, *args, **kwargs):\n",
    "        nm = self.__class__.__name__\n",
    "        arglist = [f'\"{self.prefix}\"',]\n",
    "        for attr in \"name readback setpoint units\".split():\n",
    "            v = getattr(self,attr)\n",
    "            if isinstance(v, str):\n",
    "                arglist.append(f'{attr}=\"{v}\"')\n",
    "            else:\n",
    "                arglist.append(f\"{attr}={v}\")\n",
    "        return f\"{nm}({', '.join(arglist)})\"\n",
    "\n",
    "    def __str__(self, *args, **kwargs):\n",
    "        return f\"{self.name} = {self.position:.3f} {self.units}\"\n",
    "\n",
    "    def check_limits(self, value):\n",
    "        if value < self.low_limit:\n",
    "            raise ValueError(f\"{value} is less than low limit: {self.limits}\")\n",
    "        elif value > self.high_limit:\n",
    "            raise ValueError(f\"{value} is greater than high limit: {self.limits}\")\n",
    "\n",
    "    def _controller(self, *value, **kwargs):\n",
    "        # print(f\"{self.moving = }\")\n",
    "        while self.moving:\n",
    "            if self._stopping:\n",
    "                print(f\"stopping ...  {self.readback = }\")\n",
    "                self._stopping = False\n",
    "                self.setpoint = self.readback\n",
    "                break\n",
    "            if not self.done:\n",
    "                self._step()\n",
    "            time.sleep(self._poll_interval_s)\n",
    "            # print(f\"{self.moving = }\")\n",
    "        self.done = True\n",
    "        self._controller_thread = None\n",
    "\n",
    "    @property\n",
    "    def limits(self):\n",
    "        return (self.low_limit, self.high_limit)\n",
    "\n",
    "    def move(self, value):\n",
    "        self.check_limits(value)\n",
    "        # print(f\"move({value})\")\n",
    "        self.setpoint = float(value)\n",
    "        self.done = False\n",
    "        runner = threading.Thread(target=self._controller)\n",
    "        runner.start()\n",
    "        self._controller_thread = runner\n",
    "\n",
    "    @property\n",
    "    def moving(self):\n",
    "        diff = float(self.readback) - float(self.setpoint)\n",
    "        return abs(diff) > self.tolerance\n",
    "\n",
    "    @property\n",
    "    def position(self):\n",
    "        return self.readback\n",
    "\n",
    "    def stop(self):\n",
    "        if not self.done:\n",
    "            print(\"stop received\")\n",
    "            self._stopping = True\n",
    "\n",
    "    def _step(self):\n",
    "        \"\"\"simulate a motion\"\"\"\n",
    "        diff = self.setpoint - self.readback\n",
    "        sign = {True: 1, False: -1}[diff >= 0]\n",
    "        step = sign*min(abs(diff)/2, self._max_move)\n",
    "        noise = self.noise_amplitude*np.random.normal()\n",
    "        target = step+noise\n",
    "        # print(f\"{diff = }\")\n",
    "        # print(f\"{step = }\")\n",
    "        # print(f\"{noise = }\")\n",
    "        # print(f\"{target = }\")\n",
    "\n",
    "        self.readback += max(min(target, self.high_limit), self.low_limit)\n",
    "        # print(f\"{self.readback = }\")\n",
    "\n",
    "\n",
    "def move(axis, value, wait=True):\n",
    "    axis.move(value)\n",
    "    if not wait:\n",
    "        return 0\n",
    "    t0 = time.time()\n",
    "    while not axis.done:\n",
    "        time.sleep(0.1)\n",
    "    return time.time()-t0"
   ]
  },
  {
   "cell_type": "code",
   "execution_count": 2,
   "metadata": {},
   "outputs": [
    {
     "output_type": "stream",
     "name": "stdout",
     "text": [
      "SimAxis(\"\", name=\"x\", readback=0.0, setpoint=0.0, units=\"mm\")\n"
     ]
    }
   ],
   "source": [
    "x = SimAxis(\"\", name=\"x\")\n",
    "print(f\"{x!r}\")"
   ]
  },
  {
   "cell_type": "code",
   "execution_count": 3,
   "metadata": {},
   "outputs": [
    {
     "output_type": "stream",
     "name": "stdout",
     "text": [
      "0.4395763874053955 s\n",
      "SimAxis(\"\", name=\"x\", readback=0.9992408659551012, setpoint=1.0, units=\"mm\")\n",
      "2.9539873600006104 s\n",
      "SimAxis(\"\", name=\"x\", readback=9.99916192626203, setpoint=10.0, units=\"mm\")\n"
     ]
    }
   ],
   "source": [
    "print(move(x, 1), \"s\")\n",
    "print(repr(x))\n",
    "\n",
    "print(move(x, 10), \"s\")\n",
    "print(repr(x))"
   ]
  },
  {
   "cell_type": "code",
   "execution_count": 4,
   "metadata": {},
   "outputs": [
    {
     "output_type": "stream",
     "name": "stdout",
     "text": [
      "-12345 is less than low limit: (-1, 121)\n543212 is greater than high limit: (-1, 121)\n"
     ]
    }
   ],
   "source": [
    "# test the limits\n",
    "for v in (-12_345, 543_212):\n",
    "    try:\n",
    "        x.move(v)\n",
    "    except ValueError as exc:\n",
    "        print(exc)"
   ]
  },
  {
   "cell_type": "code",
   "execution_count": 5,
   "metadata": {},
   "outputs": [
    {
     "output_type": "stream",
     "name": "stdout",
     "text": [
      "stop received\nstopping ...  self.readback = 14.948498655521565\ntime to stop: 0.031s  SimAxis(\"\", name=\"x\", readback=14.948498655521565, setpoint=14.948498655521565, units=\"mm\")\n"
     ]
    }
   ],
   "source": [
    "# relative move, don't wait\n",
    "move(x, x.position+10, wait=False)\n",
    "\n",
    "# let it run a short time\n",
    "time.sleep(1.5)\n",
    "\n",
    "# stop the move, report how long it takes to stop\n",
    "t0 = time.time()\n",
    "x.stop()\n",
    "while not x.done:\n",
    "    time.sleep(0.01)\n",
    "print(f\"time to stop: {time.time()-t0:.3f}s  {x!r}\")"
   ]
  },
  {
   "cell_type": "code",
   "execution_count": 6,
   "metadata": {},
   "outputs": [
    {
     "output_type": "stream",
     "name": "stdout",
     "text": [
      "1.634s  SimAxis(\"\", name=\"x\", readback=10.000756700278446, setpoint=10.0, units=\"mm\")\n",
      "0.433s  SimAxis(\"\", name=\"x\", readback=9.000910179636273, setpoint=9.0, units=\"mm\")\n",
      "0.436s  SimAxis(\"\", name=\"x\", readback=8.000859645394701, setpoint=8.0, units=\"mm\")\n",
      "0.436s  SimAxis(\"\", name=\"x\", readback=7.000677039719834, setpoint=7.0, units=\"mm\")\n",
      "0.434s  SimAxis(\"\", name=\"x\", readback=6.000622911141888, setpoint=6.0, units=\"mm\")\n",
      "0.434s  SimAxis(\"\", name=\"x\", readback=5.000472499777437, setpoint=5.0, units=\"mm\")\n",
      "0.436s  SimAxis(\"\", name=\"x\", readback=4.000750864300072, setpoint=4.0, units=\"mm\")\n",
      "0.436s  SimAxis(\"\", name=\"x\", readback=3.0009647117165374, setpoint=3.0, units=\"mm\")\n",
      "0.435s  SimAxis(\"\", name=\"x\", readback=2.000742085239298, setpoint=2.0, units=\"mm\")\n"
     ]
    }
   ],
   "source": [
    "# a series of moves\n",
    "for v in range(10, 1, -1):\n",
    "    print(f\"{move(x, v):.3f}s  {x!r}\")"
   ]
  },
  {
   "cell_type": "code",
   "execution_count": 7,
   "metadata": {},
   "outputs": [
    {
     "output_type": "stream",
     "name": "stdout",
     "text": [
      "SimAxis(\"\", name=\"x\", readback=2.000742085239298, setpoint=2.0, units=\"mm\")\n",
      "0.754s  dx = -2.10mm  s = -2.784mm/s\n",
      "0.106s  dx = 0.10mm  s = 0.925mm/s\n",
      "0.436s  dx = 1.00mm  s = 2.295mm/s\n",
      "0.440s  dx = -1.00mm  s = -2.271mm/s\n",
      "0.758s  dx = 2.00mm  s = 2.636mm/s\n",
      "0.762s  dx = -2.00mm  s = -2.625mm/s\n",
      "1.634s  dx = 5.00mm  s = 3.059mm/s\n",
      "1.739s  dx = -5.00mm  s = -2.875mm/s\n",
      "3.262s  dx = 10.00mm  s = 3.065mm/s\n",
      "3.265s  dx = -10.00mm  s = -3.063mm/s\n",
      "6.303s  dx = 20.00mm  s = 3.173mm/s\n",
      "6.315s  dx = -20.00mm  s = -3.167mm/s\n",
      "9.449s  dx = 30.00mm  s = 3.175mm/s\n",
      "9.443s  dx = -30.00mm  s = -3.177mm/s\n"
     ]
    }
   ],
   "source": [
    "# measure the movement speed for short and long moves\n",
    "print(repr(x))\n",
    "for hi in (-0.1, 1, 2, 5, 10, 20, 30):\n",
    "    for v in (hi, 0):\n",
    "        v0 = x.position\n",
    "        dt = move(x, v)\n",
    "        dx = x.position - v0\n",
    "        s = dx/dt\n",
    "        print(f\"{dt:.3f}s  {dx = :.2f}{x.units}  {s = :.3f}{x.units}/s\")"
   ]
  }
 ],
 "metadata": {
  "kernelspec": {
   "name": "python385jvsc74a57bd07dab0508751cb82e61e81c3615f36912821e9ee8b7d6dc826bc4bbc1ddc8fd45",
   "display_name": "Python 3.8.5 64-bit ('bluesky_2021_1': conda)"
  },
  "language_info": {
   "codemirror_mode": {
    "name": "ipython",
    "version": 3
   },
   "file_extension": ".py",
   "mimetype": "text/x-python",
   "name": "python",
   "nbconvert_exporter": "python",
   "pygments_lexer": "ipython3",
   "version": "3.8.5"
  }
 },
 "nbformat": 4,
 "nbformat_minor": 4
}