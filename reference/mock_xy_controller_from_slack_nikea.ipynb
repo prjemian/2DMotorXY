{
 "cells": [
  {
   "cell_type": "markdown",
   "id": "interracial-hands",
   "metadata": {},
   "source": [
    "# mockup XY stage\n",
    "\n",
    "simulate controller that takes (x,y) tuple as 2-D positioner\n",
    "\n",
    "PV | meaning\n",
    ":--- | :---\n",
    "`mock:pair` | actual controller value: (x,y) position tuple\n",
    "`mock:x` | virtual x positioner value\n",
    "`mock:y` | virtual y positioner value"
   ]
  },
  {
   "cell_type": "code",
   "execution_count": 1,
   "id": "existing-quebec",
   "metadata": {},
   "outputs": [],
   "source": [
    "from ophyd import (PseudoPositioner, PseudoSingle, PVPositionerPC, EpicsSignal, EpicsSignalRO, Signal)\n",
    "from ophyd import (Component as Cpt)\n",
    "from ophyd.pseudopos import (pseudo_position_argument, real_position_argument)\n",
    "from ophyd.status import Status"
   ]
  },
  {
   "cell_type": "code",
   "execution_count": 5,
   "id": "going-peeing",
   "metadata": {},
   "outputs": [
    {
     "name": "stdout",
     "output_type": "stream",
     "text": [
      "xy_pos.position = array([ 0.1234, 45.6789])\n",
      "xy_pos.done = None\n",
      "xy_pos._done_moving() = None\n",
      "xy_pos.moving = False\n"
     ]
    }
   ],
   "source": [
    "class SoftXYPositioner(PVPositionerPC):\n",
    "    setpoint = Cpt(EpicsSignal, 'mock:pair.VAL')\n",
    "    readback = Cpt(EpicsSignalRO, 'mock:pair.VAL')\n",
    "\n",
    "xy_pos = SoftXYPositioner(\"\", name=\"xy_pos\")\n",
    "xy_pos.wait_for_connection()\n",
    "if len(xy_pos.position) == 0:\n",
    "    # test data\n",
    "    xy_pos.move((45.6789, 0.1234))\n",
    "print(f\"{xy_pos.position = }\")\n",
    "print(f\"{xy_pos.done = }\")\n",
    "print(f\"{xy_pos._done_moving() = }\")\n",
    "print(f\"{xy_pos.moving = }\")"
   ]
  },
  {
   "cell_type": "code",
   "execution_count": 6,
   "id": "roman-intelligence",
   "metadata": {},
   "outputs": [
    {
     "name": "stdout",
     "output_type": "stream",
     "text": [
      "xy_pos.position = array([45.6789,  0.1234])\n"
     ]
    }
   ],
   "source": [
    "xy_pos.move(xy_pos.position[::-1])\n",
    "print(f\"{xy_pos.position = }\")"
   ]
  },
  {
   "cell_type": "code",
   "execution_count": 2,
   "id": "immediate-script",
   "metadata": {},
   "outputs": [],
   "source": [
    "# class MyXYStagePseudo(PseudoPositioner):\n",
    "#     # The pseudo positioner axes:\n",
    "#     x = Cpt(PseudoSingle)\n",
    "#     y = Cpt(PseudoSingle)\n",
    "\n",
    "#     # The real (or physical) positioners:\n",
    "#     controller = Cpt(SoftXYPositioner, 'mock:pair')\n",
    "\n",
    "#     @pseudo_position_argument\n",
    "#     def forward(self, pseudo_pos):\n",
    "#         '''Run a forward (pseudo -> real) calculation'''\n",
    "#         print(f\"forward: {pseudo_pos = }\")\n",
    "#         return self.RealPosition(x=pseudo_pos.controller[0],\n",
    "#                                  y=pseudo_pos.controller[1])\n",
    "\n",
    "#     @real_position_argument\n",
    "#     def inverse(self, real_pos):\n",
    "#         '''Run an inverse (real -> pseudo) calculation'''\n",
    "#         print(f\"inverse: {real_pos = }\")\n",
    "#         return self.PseudoPosition(controller=(real_pos.x, real_pos.y))"
   ]
  },
  {
   "cell_type": "code",
   "execution_count": 3,
   "id": "ranging-seller",
   "metadata": {},
   "outputs": [],
   "source": [
    "# xy_pos = SoftXYPositioner(\"mock:pair\", name=\"xy_pos\")\n",
    "# xy_pos.move([5,6])\n",
    "# print(f\"{xy_pos.position = }\")"
   ]
  },
  {
   "cell_type": "code",
   "execution_count": 4,
   "id": "crazy-abraham",
   "metadata": {},
   "outputs": [],
   "source": [
    "# xy_stage = MyXYStagePseudo(\"\", name=\"xy_stage\")"
   ]
  },
  {
   "cell_type": "code",
   "execution_count": 12,
   "id": "intimate-brain",
   "metadata": {},
   "outputs": [
    {
     "data": {
      "text/plain": [
       "\u001b[0;31mSignature:\u001b[0m \u001b[0mxy_pos\u001b[0m\u001b[0;34m.\u001b[0m\u001b[0m_setup_move\u001b[0m\u001b[0;34m(\u001b[0m\u001b[0mposition\u001b[0m\u001b[0;34m)\u001b[0m\u001b[0;34m\u001b[0m\u001b[0;34m\u001b[0m\u001b[0m\n",
       "\u001b[0;31mSource:\u001b[0m   \n",
       "    \u001b[0;32mdef\u001b[0m \u001b[0m_setup_move\u001b[0m\u001b[0;34m(\u001b[0m\u001b[0mself\u001b[0m\u001b[0;34m,\u001b[0m \u001b[0mposition\u001b[0m\u001b[0;34m)\u001b[0m\u001b[0;34m:\u001b[0m\u001b[0;34m\u001b[0m\n",
       "\u001b[0;34m\u001b[0m        \u001b[0;34m'''Move and do not wait until motion is complete (asynchronous)'''\u001b[0m\u001b[0;34m\u001b[0m\n",
       "\u001b[0;34m\u001b[0m        \u001b[0;32mdef\u001b[0m \u001b[0mdone_moving\u001b[0m\u001b[0;34m(\u001b[0m\u001b[0;34m**\u001b[0m\u001b[0mkwargs\u001b[0m\u001b[0;34m)\u001b[0m\u001b[0;34m:\u001b[0m\u001b[0;34m\u001b[0m\n",
       "\u001b[0;34m\u001b[0m            \u001b[0mself\u001b[0m\u001b[0;34m.\u001b[0m\u001b[0mlog\u001b[0m\u001b[0;34m.\u001b[0m\u001b[0mdebug\u001b[0m\u001b[0;34m(\u001b[0m\u001b[0;34m'%s async motion done'\u001b[0m\u001b[0;34m,\u001b[0m \u001b[0mself\u001b[0m\u001b[0;34m.\u001b[0m\u001b[0mname\u001b[0m\u001b[0;34m)\u001b[0m\u001b[0;34m\u001b[0m\n",
       "\u001b[0;34m\u001b[0m            \u001b[0mself\u001b[0m\u001b[0;34m.\u001b[0m\u001b[0m_done_moving\u001b[0m\u001b[0;34m(\u001b[0m\u001b[0msuccess\u001b[0m\u001b[0;34m=\u001b[0m\u001b[0;32mTrue\u001b[0m\u001b[0;34m)\u001b[0m\u001b[0;34m\u001b[0m\n",
       "\u001b[0;34m\u001b[0m\u001b[0;34m\u001b[0m\n",
       "\u001b[0;34m\u001b[0m        \u001b[0;32mif\u001b[0m \u001b[0mself\u001b[0m\u001b[0;34m.\u001b[0m\u001b[0mdone\u001b[0m \u001b[0;32mis\u001b[0m \u001b[0;32mNone\u001b[0m\u001b[0;34m:\u001b[0m\u001b[0;34m\u001b[0m\n",
       "\u001b[0;34m\u001b[0m            \u001b[0;31m# No done signal, so we rely on put completion\u001b[0m\u001b[0;34m\u001b[0m\n",
       "\u001b[0;34m\u001b[0m            \u001b[0mmoving_val\u001b[0m \u001b[0;34m=\u001b[0m \u001b[0;36m1\u001b[0m \u001b[0;34m-\u001b[0m \u001b[0mself\u001b[0m\u001b[0;34m.\u001b[0m\u001b[0mdone_value\u001b[0m\u001b[0;34m\u001b[0m\n",
       "\u001b[0;34m\u001b[0m            \u001b[0mself\u001b[0m\u001b[0;34m.\u001b[0m\u001b[0m_move_changed\u001b[0m\u001b[0;34m(\u001b[0m\u001b[0mvalue\u001b[0m\u001b[0;34m=\u001b[0m\u001b[0mmoving_val\u001b[0m\u001b[0;34m)\u001b[0m\u001b[0;34m\u001b[0m\n",
       "\u001b[0;34m\u001b[0m\u001b[0;34m\u001b[0m\n",
       "\u001b[0;34m\u001b[0m        \u001b[0mself\u001b[0m\u001b[0;34m.\u001b[0m\u001b[0mlog\u001b[0m\u001b[0;34m.\u001b[0m\u001b[0mdebug\u001b[0m\u001b[0;34m(\u001b[0m\u001b[0;34m'%s.setpoint = %s'\u001b[0m\u001b[0;34m,\u001b[0m \u001b[0mself\u001b[0m\u001b[0;34m.\u001b[0m\u001b[0mname\u001b[0m\u001b[0;34m,\u001b[0m \u001b[0mposition\u001b[0m\u001b[0;34m)\u001b[0m\u001b[0;34m\u001b[0m\n",
       "\u001b[0;34m\u001b[0m\u001b[0;34m\u001b[0m\n",
       "\u001b[0;34m\u001b[0m        \u001b[0;32mif\u001b[0m \u001b[0mself\u001b[0m\u001b[0;34m.\u001b[0m\u001b[0mactuate\u001b[0m \u001b[0;32mis\u001b[0m \u001b[0;32mnot\u001b[0m \u001b[0;32mNone\u001b[0m\u001b[0;34m:\u001b[0m\u001b[0;34m\u001b[0m\n",
       "\u001b[0;34m\u001b[0m            \u001b[0mself\u001b[0m\u001b[0;34m.\u001b[0m\u001b[0msetpoint\u001b[0m\u001b[0;34m.\u001b[0m\u001b[0mput\u001b[0m\u001b[0;34m(\u001b[0m\u001b[0mposition\u001b[0m\u001b[0;34m,\u001b[0m \u001b[0mwait\u001b[0m\u001b[0;34m=\u001b[0m\u001b[0;32mTrue\u001b[0m\u001b[0;34m)\u001b[0m\u001b[0;34m\u001b[0m\n",
       "\u001b[0;34m\u001b[0m\u001b[0;34m\u001b[0m\n",
       "\u001b[0;34m\u001b[0m            \u001b[0mself\u001b[0m\u001b[0;34m.\u001b[0m\u001b[0mlog\u001b[0m\u001b[0;34m.\u001b[0m\u001b[0mdebug\u001b[0m\u001b[0;34m(\u001b[0m\u001b[0;34m'%s.actuate = %s'\u001b[0m\u001b[0;34m,\u001b[0m \u001b[0mself\u001b[0m\u001b[0;34m.\u001b[0m\u001b[0mname\u001b[0m\u001b[0;34m,\u001b[0m \u001b[0mself\u001b[0m\u001b[0;34m.\u001b[0m\u001b[0mactuate_value\u001b[0m\u001b[0;34m)\u001b[0m\u001b[0;34m\u001b[0m\n",
       "\u001b[0;34m\u001b[0m            \u001b[0mself\u001b[0m\u001b[0;34m.\u001b[0m\u001b[0mactuate\u001b[0m\u001b[0;34m.\u001b[0m\u001b[0mput\u001b[0m\u001b[0;34m(\u001b[0m\u001b[0mself\u001b[0m\u001b[0;34m.\u001b[0m\u001b[0mactuate_value\u001b[0m\u001b[0;34m,\u001b[0m \u001b[0mwait\u001b[0m\u001b[0;34m=\u001b[0m\u001b[0;32mFalse\u001b[0m\u001b[0;34m,\u001b[0m\u001b[0;34m\u001b[0m\n",
       "\u001b[0;34m\u001b[0m                             \u001b[0mcallback\u001b[0m\u001b[0;34m=\u001b[0m\u001b[0mdone_moving\u001b[0m\u001b[0;34m)\u001b[0m\u001b[0;34m\u001b[0m\n",
       "\u001b[0;34m\u001b[0m        \u001b[0;32melse\u001b[0m\u001b[0;34m:\u001b[0m\u001b[0;34m\u001b[0m\n",
       "\u001b[0;34m\u001b[0m            \u001b[0mself\u001b[0m\u001b[0;34m.\u001b[0m\u001b[0msetpoint\u001b[0m\u001b[0;34m.\u001b[0m\u001b[0mput\u001b[0m\u001b[0;34m(\u001b[0m\u001b[0mposition\u001b[0m\u001b[0;34m,\u001b[0m \u001b[0mwait\u001b[0m\u001b[0;34m=\u001b[0m\u001b[0;32mFalse\u001b[0m\u001b[0;34m,\u001b[0m\u001b[0;34m\u001b[0m\n",
       "\u001b[0;34m\u001b[0m                              \u001b[0mcallback\u001b[0m\u001b[0;34m=\u001b[0m\u001b[0mdone_moving\u001b[0m\u001b[0;34m)\u001b[0m\u001b[0;34m\u001b[0m\u001b[0;34m\u001b[0m\u001b[0m\n",
       "\u001b[0;31mFile:\u001b[0m      ~/.local/lib/python3.8/site-packages/ophyd/pv_positioner.py\n",
       "\u001b[0;31mType:\u001b[0m      method\n"
      ]
     },
     "metadata": {},
     "output_type": "display_data"
    }
   ],
   "source": [
    "xy_pos._setup_move??"
   ]
  }
 ],
 "metadata": {
  "kernelspec": {
   "display_name": "bluesky_2021_1",
   "language": "python",
   "name": "bluesky_2021_1"
  },
  "language_info": {
   "codemirror_mode": {
    "name": "ipython",
    "version": 3
   },
   "file_extension": ".py",
   "mimetype": "text/x-python",
   "name": "python",
   "nbconvert_exporter": "python",
   "pygments_lexer": "ipython3",
   "version": "3.8.8"
  }
 },
 "nbformat": 4,
 "nbformat_minor": 5
}
