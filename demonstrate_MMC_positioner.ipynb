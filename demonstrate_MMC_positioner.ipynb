{
 "metadata": {
  "language_info": {
   "codemirror_mode": {
    "name": "ipython",
    "version": 3
   },
   "file_extension": ".py",
   "mimetype": "text/x-python",
   "name": "python",
   "nbconvert_exporter": "python",
   "pygments_lexer": "ipython3",
   "version": "3.8.5"
  },
  "orig_nbformat": 2,
  "kernelspec": {
   "name": "python385jvsc74a57bd07dab0508751cb82e61e81c3615f36912821e9ee8b7d6dc826bc4bbc1ddc8fd45",
   "display_name": "Python 3.8.5 64-bit ('bluesky_2021_1': conda)"
  }
 },
 "nbformat": 4,
 "nbformat_minor": 2,
 "cells": [
  {
   "cell_type": "code",
   "execution_count": 1,
   "metadata": {},
   "outputs": [],
   "source": [
    "%run -i mmc_positioner.py"
   ]
  },
  {
   "cell_type": "code",
   "execution_count": 2,
   "metadata": {},
   "outputs": [
    {
     "output_type": "stream",
     "name": "stdout",
     "text": [
      "mmc = MMC_Positioner(name='mmc', settle_time=0.0, timeout=None, egu='', limits=(0, 0), source='MMC 2D XY Stage Controller')\n",
      "st = MoveStatus(done=False, pos=mmc, elapsed=1.0, success=False, settle_time=0.0)\n",
      "mmc = MMC_Positioner(name='mmc', settle_time=0.0, timeout=None, egu='', limits=(0, 0), source='MMC 2D XY Stage Controller')\n",
      "mmc.get() = (2.1, -0.1)\n",
      "exc = AttributeError(\"'MMC_Positioner' object has no attribute 'put'\")\n",
      "mmc.read() = OrderedDict([('mmc', {'value': (2.1, -0.1), 'timestamp': 1619899931.585482})])\n",
      "mmc.move((.6, -.7)) = MoveStatus(done=True, pos=mmc, elapsed=1.0, success=True, settle_time=0.0)\n",
      "1.018449s\n",
      "mmc = MMC_Positioner(name='mmc', settle_time=0.0, timeout=None, egu='', limits=(0, 0), source='MMC 2D XY Stage Controller')\n",
      "mmc.position = (0.6, -0.7)\n"
     ]
    }
   ],
   "source": [
    "mmc = MMC_Positioner(name=\"mmc\", mmc_label=\"is this used?\")\n",
    "demonstrate_mmc_positioner(mmc)"
   ]
  }
 ]
}