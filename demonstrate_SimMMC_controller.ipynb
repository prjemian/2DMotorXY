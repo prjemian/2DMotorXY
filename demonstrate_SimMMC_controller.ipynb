{
 "cells": [
  {
   "source": [
    "# Develop ophyd support for MMC Controller"
   ],
   "cell_type": "markdown",
   "metadata": {}
  },
  {
   "cell_type": "code",
   "execution_count": 1,
   "metadata": {},
   "outputs": [],
   "source": [
    "%run -i sim_mmc_controller.py"
   ]
  },
  {
   "cell_type": "code",
   "execution_count": 2,
   "metadata": {},
   "outputs": [
    {
     "output_type": "stream",
     "name": "stdout",
     "text": [
      "mmc.getPosition() = 0\n",
      "mmc.getXYPosition() = [0, 0]\n",
      "mmc.setXYPosition((5,4)) = None\n",
      "mmc.getPosition() = 0\n",
      "mmc.getXYPosition() = (5, 4)\n",
      "mmc.getCameraDevice() = 'SimCamera'\n",
      "waitForDevice() completed in 1.001142978668213s\n"
     ]
    }
   ],
   "source": [
    "demonstrate_mmc(SimMMC())"
   ]
  }
 ],
 "metadata": {
  "kernelspec": {
   "name": "python385jvsc74a57bd07dab0508751cb82e61e81c3615f36912821e9ee8b7d6dc826bc4bbc1ddc8fd45",
   "display_name": "Python 3.8.5 64-bit ('bluesky_2021_1': conda)"
  },
  "language_info": {
   "codemirror_mode": {
    "name": "ipython",
    "version": 3
   },
   "file_extension": ".py",
   "mimetype": "text/x-python",
   "name": "python",
   "nbconvert_exporter": "python",
   "pygments_lexer": "ipython3",
   "version": "3.8.5"
  }
 },
 "nbformat": 4,
 "nbformat_minor": 4
}